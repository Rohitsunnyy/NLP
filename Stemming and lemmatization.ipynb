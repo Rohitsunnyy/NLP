{
 "cells": [
  {
   "cell_type": "code",
   "execution_count": 1,
   "metadata": {},
   "outputs": [],
   "source": [
    "import nltk \n",
    "import spacy\n"
   ]
  },
  {
   "cell_type": "code",
   "execution_count": 2,
   "metadata": {},
   "outputs": [],
   "source": [
    "from nltk.stem import PorterStemmer\n",
    "\n",
    "stemmer = PorterStemmer()"
   ]
  },
  {
   "cell_type": "code",
   "execution_count": 4,
   "metadata": {},
   "outputs": [
    {
     "name": "stdout",
     "output_type": "stream",
     "text": [
      "eating | eat\n",
      "eats | eat\n",
      "ate | ate\n",
      "adjustable | adjust\n",
      "rafting | raft\n",
      "ability | abil\n",
      "meeting | meet\n"
     ]
    }
   ],
   "source": [
    "words = [\"eating\", \"eats\", \"ate\", \"adjustable\", \"rafting\", \"ability\", \"meeting\"]\n",
    "\n",
    "for word in words:\n",
    "    print(word, \"|\", stemmer.stem(word))"
   ]
  },
  {
   "cell_type": "code",
   "execution_count": 6,
   "metadata": {},
   "outputs": [
    {
     "name": "stdout",
     "output_type": "stream",
     "text": [
      "eating | eat | 9837207709914848172\n",
      "eats | eat | 9837207709914848172\n",
      "eat | eat | 9837207709914848172\n",
      "ate | eat | 9837207709914848172\n",
      "adjusting | adjust | 12254408354648292678\n",
      "ability | ability | 11565809527369121409\n",
      "meeting | meeting | 14798207169164081740\n",
      "better | well | 4525988469032889948\n"
     ]
    }
   ],
   "source": [
    "##lets do Lemmatization\n",
    "nlp = spacy.load(\"en_core_web_sm\")\n",
    "\n",
    "doc = nlp(\"eating eats eat ate adjusting ability meeting better\")\n",
    "\n",
    "for token in doc:\n",
    "    print(token, \"|\", token.lemma_, \"|\", token.lemma)"
   ]
  },
  {
   "cell_type": "code",
   "execution_count": 8,
   "metadata": {},
   "outputs": [
    {
     "name": "stdout",
     "output_type": "stream",
     "text": [
      "Rohit | Rohit | 18257207759242967679\n",
      "loves | love | 3702023516439754181\n",
      "coding | code | 3084953006211575075\n",
      "and | and | 2283656566040971221\n",
      "he | he | 1655312771067108281\n",
      "is | be | 10382539506755952630\n",
      "very | very | 9548244504980166557\n",
      "thoughtfull | thoughtfull | 9874775640704874045\n",
      "person | person | 14800503047316267216\n",
      ", | , | 2593208677638477497\n",
      "and | and | 2283656566040971221\n",
      "he | he | 1655312771067108281\n",
      "loves | love | 3702023516439754181\n",
      "playing | play | 8228585124152053988\n",
      "chess | chess | 1107333712780441328\n",
      "all | all | 13409319323822384369\n",
      "the | the | 7425985699627899538\n",
      "time | time | 8885804376230376864\n"
     ]
    }
   ],
   "source": [
    "doc = nlp(\"Rohit loves coding and he is very thoughtfull person, and he loves playing chess all the time\")\n",
    "\n",
    "for token in doc:\n",
    "    print(token, \"|\", token.lemma_, \"|\", token.lemma)"
   ]
  },
  {
   "cell_type": "code",
   "execution_count": 11,
   "metadata": {},
   "outputs": [
    {
     "data": {
      "text/plain": [
       "['tok2vec', 'tagger', 'parser', 'attribute_ruler', 'lemmatizer', 'ner']"
      ]
     },
     "execution_count": 11,
     "metadata": {},
     "output_type": "execute_result"
    }
   ],
   "source": [
    "##we can also constomize the behaviour as and want to give your own things:\n",
    "\n",
    "#we can check the pipe name :\n",
    "\n",
    "nlp.pipe_names"
   ]
  },
  {
   "cell_type": "code",
   "execution_count": 16,
   "metadata": {},
   "outputs": [
    {
     "name": "stdout",
     "output_type": "stream",
     "text": [
      "bro | bro | 3493238095688267532\n",
      ", | , | 2593208677638477497\n",
      "you | you | 7624161793554793053\n",
      "wanna | wanna | 13000462173222681081\n",
      "go | go | 8004577259940138793\n",
      "? | ? | 8205403955989537350\n",
      "brah | brah | 4077184355776670182\n",
      ", | , | 2593208677638477497\n",
      "do | do | 2158845516055552166\n",
      "nt | not | 447765159362469301\n",
      "say | say | 8685289367999165211\n",
      "no | no | 13055779130471031426\n",
      "! | ! | 17494803046312582752\n",
      "I | I | 4690420944186131903\n",
      "am | be | 10382539506755952630\n",
      "exhausted | exhaust | 5738807065439247694\n"
     ]
    }
   ],
   "source": [
    "\n",
    "\n",
    "doc = nlp(\"bro, you wanna go? brah, dont say no! I am exhausted\")\n",
    "\n",
    "for token in doc:\n",
    "    print(token, \"|\", token.lemma_, \"|\", token.lemma)"
   ]
  },
  {
   "cell_type": "code",
   "execution_count": 13,
   "metadata": {},
   "outputs": [
    {
     "data": {
      "text/plain": [
       "bro"
      ]
     },
     "execution_count": 13,
     "metadata": {},
     "output_type": "execute_result"
    }
   ],
   "source": [
    "doc[0]"
   ]
  },
  {
   "cell_type": "code",
   "execution_count": 15,
   "metadata": {},
   "outputs": [
    {
     "data": {
      "text/plain": [
       "'bro'"
      ]
     },
     "execution_count": 15,
     "metadata": {},
     "output_type": "execute_result"
    }
   ],
   "source": [
    "doc[0].lemma_"
   ]
  },
  {
   "cell_type": "code",
   "execution_count": 26,
   "metadata": {},
   "outputs": [
    {
     "name": "stdout",
     "output_type": "stream",
     "text": [
      "Bro | Brother | 4347558510128575363\n",
      ", | , | 2593208677638477497\n",
      "you | you | 7624161793554793053\n",
      "wanna | wanna | 13000462173222681081\n",
      "go | go | 8004577259940138793\n",
      "? | ? | 8205403955989537350\n",
      "brah | Brother | 4347558510128575363\n",
      ", | , | 2593208677638477497\n",
      "do | do | 2158845516055552166\n",
      "nt | not | 447765159362469301\n",
      "say | say | 8685289367999165211\n",
      "no | no | 13055779130471031426\n",
      "! | ! | 17494803046312582752\n",
      "I | I | 4690420944186131903\n",
      "am | be | 10382539506755952630\n",
      "exhausted | exhaust | 5738807065439247694\n"
     ]
    }
   ],
   "source": [
    "#We can customize this by ar.add and give text what you want to change it to :\n",
    "ar = nlp.get_pipe(\"attribute_ruler\")\n",
    "\n",
    "ar.add([[{\"TEXT\":\"Bro\"}], [{\"TEXT\":\"brah\"}]], {\"LEMMA\": \"Brother\"})\n",
    "docs = nlp(\"Bro, you wanna go? brah, dont say no! I am exhausted\")\n",
    "\n",
    "for token in docs:\n",
    "    print(token, \"|\", token.lemma_, \"|\", token.lemma)"
   ]
  },
  {
   "cell_type": "code",
   "execution_count": 24,
   "metadata": {},
   "outputs": [
    {
     "data": {
      "text/plain": [
       "Bro"
      ]
     },
     "execution_count": 24,
     "metadata": {},
     "output_type": "execute_result"
    }
   ],
   "source": [
    "docs[0]"
   ]
  },
  {
   "cell_type": "code",
   "execution_count": 25,
   "metadata": {},
   "outputs": [
    {
     "data": {
      "text/plain": [
       "'Brother'"
      ]
     },
     "execution_count": 25,
     "metadata": {},
     "output_type": "execute_result"
    }
   ],
   "source": [
    "docs[0].lemma_"
   ]
  },
  {
   "cell_type": "code",
   "execution_count": 27,
   "metadata": {},
   "outputs": [],
   "source": [
    "#Excercise :"
   ]
  },
  {
   "cell_type": "code",
   "execution_count": 28,
   "metadata": {},
   "outputs": [
    {
     "name": "stdout",
     "output_type": "stream",
     "text": [
      "running | run\n",
      "painting | paint\n",
      "walking | walk\n",
      "dressing | dress\n",
      "likely | like\n",
      "children | children\n",
      "whom | whom\n",
      "good | good\n",
      "ate | ate\n",
      "fishing | fish\n"
     ]
    }
   ],
   "source": [
    "\n",
    "lst_words = ['running', 'painting', 'walking', 'dressing', 'likely', 'children', 'whom', 'good', 'ate', 'fishing']\n",
    "\n",
    "for word in lst_words:\n",
    "    print(word, \"|\", stemmer.stem(word))\n"
   ]
  },
  {
   "cell_type": "code",
   "execution_count": null,
   "metadata": {},
   "outputs": [],
   "source": []
  }
 ],
 "metadata": {
  "kernelspec": {
   "display_name": "myenv",
   "language": "python",
   "name": "python3"
  },
  "language_info": {
   "codemirror_mode": {
    "name": "ipython",
    "version": 3
   },
   "file_extension": ".py",
   "mimetype": "text/x-python",
   "name": "python",
   "nbconvert_exporter": "python",
   "pygments_lexer": "ipython3",
   "version": "3.8.12"
  }
 },
 "nbformat": 4,
 "nbformat_minor": 2
}
