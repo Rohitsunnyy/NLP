{
 "cells": [
  {
   "cell_type": "code",
   "execution_count": 1,
   "metadata": {},
   "outputs": [],
   "source": [
    "import gensim.downloader as api \n",
    "\n",
    "wv = api.load('word2vec-google-news-300') #loading the gensim googlenews model "
   ]
  },
  {
   "cell_type": "code",
   "execution_count": 2,
   "metadata": {},
   "outputs": [],
   "source": [
    "import pandas as pd \n",
    "\n",
    "df = pd.read_csv('Fake_Real_Data.csv')"
   ]
  },
  {
   "cell_type": "code",
   "execution_count": 3,
   "metadata": {},
   "outputs": [
    {
     "data": {
      "text/html": [
       "<div>\n",
       "<style scoped>\n",
       "    .dataframe tbody tr th:only-of-type {\n",
       "        vertical-align: middle;\n",
       "    }\n",
       "\n",
       "    .dataframe tbody tr th {\n",
       "        vertical-align: top;\n",
       "    }\n",
       "\n",
       "    .dataframe thead th {\n",
       "        text-align: right;\n",
       "    }\n",
       "</style>\n",
       "<table border=\"1\" class=\"dataframe\">\n",
       "  <thead>\n",
       "    <tr style=\"text-align: right;\">\n",
       "      <th></th>\n",
       "      <th>Text</th>\n",
       "      <th>label</th>\n",
       "    </tr>\n",
       "  </thead>\n",
       "  <tbody>\n",
       "    <tr>\n",
       "      <th>0</th>\n",
       "      <td>Top Trump Surrogate BRUTALLY Stabs Him In The...</td>\n",
       "      <td>Fake</td>\n",
       "    </tr>\n",
       "    <tr>\n",
       "      <th>1</th>\n",
       "      <td>U.S. conservative leader optimistic of common ...</td>\n",
       "      <td>Real</td>\n",
       "    </tr>\n",
       "    <tr>\n",
       "      <th>2</th>\n",
       "      <td>Trump proposes U.S. tax overhaul, stirs concer...</td>\n",
       "      <td>Real</td>\n",
       "    </tr>\n",
       "    <tr>\n",
       "      <th>3</th>\n",
       "      <td>Court Forces Ohio To Allow Millions Of Illega...</td>\n",
       "      <td>Fake</td>\n",
       "    </tr>\n",
       "    <tr>\n",
       "      <th>4</th>\n",
       "      <td>Democrats say Trump agrees to work on immigrat...</td>\n",
       "      <td>Real</td>\n",
       "    </tr>\n",
       "  </tbody>\n",
       "</table>\n",
       "</div>"
      ],
      "text/plain": [
       "                                                Text label\n",
       "0   Top Trump Surrogate BRUTALLY Stabs Him In The...  Fake\n",
       "1  U.S. conservative leader optimistic of common ...  Real\n",
       "2  Trump proposes U.S. tax overhaul, stirs concer...  Real\n",
       "3   Court Forces Ohio To Allow Millions Of Illega...  Fake\n",
       "4  Democrats say Trump agrees to work on immigrat...  Real"
      ]
     },
     "execution_count": 3,
     "metadata": {},
     "output_type": "execute_result"
    }
   ],
   "source": [
    "df.head()"
   ]
  },
  {
   "cell_type": "code",
   "execution_count": 4,
   "metadata": {},
   "outputs": [
    {
     "data": {
      "text/plain": [
       "label\n",
       "Fake    5000\n",
       "Real    4900\n",
       "Name: count, dtype: int64"
      ]
     },
     "execution_count": 4,
     "metadata": {},
     "output_type": "execute_result"
    }
   ],
   "source": [
    "df.label.value_counts()"
   ]
  },
  {
   "cell_type": "code",
   "execution_count": 5,
   "metadata": {},
   "outputs": [
    {
     "data": {
      "text/html": [
       "<div>\n",
       "<style scoped>\n",
       "    .dataframe tbody tr th:only-of-type {\n",
       "        vertical-align: middle;\n",
       "    }\n",
       "\n",
       "    .dataframe tbody tr th {\n",
       "        vertical-align: top;\n",
       "    }\n",
       "\n",
       "    .dataframe thead th {\n",
       "        text-align: right;\n",
       "    }\n",
       "</style>\n",
       "<table border=\"1\" class=\"dataframe\">\n",
       "  <thead>\n",
       "    <tr style=\"text-align: right;\">\n",
       "      <th></th>\n",
       "      <th>Text</th>\n",
       "      <th>label</th>\n",
       "      <th>label_num</th>\n",
       "    </tr>\n",
       "  </thead>\n",
       "  <tbody>\n",
       "    <tr>\n",
       "      <th>0</th>\n",
       "      <td>Top Trump Surrogate BRUTALLY Stabs Him In The...</td>\n",
       "      <td>Fake</td>\n",
       "      <td>0</td>\n",
       "    </tr>\n",
       "    <tr>\n",
       "      <th>1</th>\n",
       "      <td>U.S. conservative leader optimistic of common ...</td>\n",
       "      <td>Real</td>\n",
       "      <td>1</td>\n",
       "    </tr>\n",
       "    <tr>\n",
       "      <th>2</th>\n",
       "      <td>Trump proposes U.S. tax overhaul, stirs concer...</td>\n",
       "      <td>Real</td>\n",
       "      <td>1</td>\n",
       "    </tr>\n",
       "    <tr>\n",
       "      <th>3</th>\n",
       "      <td>Court Forces Ohio To Allow Millions Of Illega...</td>\n",
       "      <td>Fake</td>\n",
       "      <td>0</td>\n",
       "    </tr>\n",
       "    <tr>\n",
       "      <th>4</th>\n",
       "      <td>Democrats say Trump agrees to work on immigrat...</td>\n",
       "      <td>Real</td>\n",
       "      <td>1</td>\n",
       "    </tr>\n",
       "  </tbody>\n",
       "</table>\n",
       "</div>"
      ],
      "text/plain": [
       "                                                Text label  label_num\n",
       "0   Top Trump Surrogate BRUTALLY Stabs Him In The...  Fake          0\n",
       "1  U.S. conservative leader optimistic of common ...  Real          1\n",
       "2  Trump proposes U.S. tax overhaul, stirs concer...  Real          1\n",
       "3   Court Forces Ohio To Allow Millions Of Illega...  Fake          0\n",
       "4  Democrats say Trump agrees to work on immigrat...  Real          1"
      ]
     },
     "execution_count": 5,
     "metadata": {},
     "output_type": "execute_result"
    }
   ],
   "source": [
    "#creating a new column of 1&0 of label \n",
    "\n",
    "df[\"label_num\"] = df.label.map({\n",
    "    \"Fake\" : 0 ,\n",
    "    \"Real\": 1\n",
    "})\n",
    "\n",
    "df.head()"
   ]
  },
  {
   "cell_type": "code",
   "execution_count": 6,
   "metadata": {},
   "outputs": [],
   "source": [
    "#preprocessing the text\n",
    "\n",
    "import spacy\n",
    "nlp = spacy.load(\"en_core_web_lg\")\n",
    "\n",
    "def preprocess_and_vectorize(text):\n",
    "    doc = nlp(text)\n",
    "\n",
    "\n",
    "    filtered_token = []\n",
    "    for token in doc:\n",
    "        if token.is_punct or token.is_stop:\n",
    "            continue\n",
    "        filtered_token.append(token.lemma_)\n",
    "\n",
    "    return wv.get_mean_vector(filtered_token) \n",
    "\n"
   ]
  },
  {
   "cell_type": "code",
   "execution_count": 7,
   "metadata": {},
   "outputs": [
    {
     "data": {
      "text/plain": [
       "(300,)"
      ]
     },
     "execution_count": 7,
     "metadata": {},
     "output_type": "execute_result"
    }
   ],
   "source": [
    "preprocess_and_vectorize(\"Dont worry if you dont understand\").shape"
   ]
  },
  {
   "cell_type": "code",
   "execution_count": 8,
   "metadata": {},
   "outputs": [
    {
     "data": {
      "text/plain": [
       "array([ 0.00976562, -0.00561523, -0.08905029], dtype=float32)"
      ]
     },
     "execution_count": 8,
     "metadata": {},
     "output_type": "execute_result"
    }
   ],
   "source": [
    "#we can aslo get the mean of the vectors :\n",
    "\n",
    "wv.get_mean_vector([\"worry\", 'understand'], pre_normalize=False)[:3]"
   ]
  },
  {
   "cell_type": "code",
   "execution_count": 9,
   "metadata": {},
   "outputs": [
    {
     "data": {
      "text/plain": [
       "array([ 0.00976562, -0.00561523, -0.08905029], dtype=float32)"
      ]
     },
     "execution_count": 9,
     "metadata": {},
     "output_type": "execute_result"
    }
   ],
   "source": [
    "v1 = wv[\"worry\"]\n",
    "v2 = wv['understand']\n",
    "\n",
    "import numpy as np\n",
    "np.mean([v1,v2], axis=0)[:3]"
   ]
  },
  {
   "cell_type": "code",
   "execution_count": 10,
   "metadata": {},
   "outputs": [],
   "source": [
    "df['vector'] = df['Text'].apply(lambda text : preprocess_and_vectorize(text))"
   ]
  },
  {
   "cell_type": "code",
   "execution_count": 11,
   "metadata": {},
   "outputs": [
    {
     "data": {
      "text/html": [
       "<div>\n",
       "<style scoped>\n",
       "    .dataframe tbody tr th:only-of-type {\n",
       "        vertical-align: middle;\n",
       "    }\n",
       "\n",
       "    .dataframe tbody tr th {\n",
       "        vertical-align: top;\n",
       "    }\n",
       "\n",
       "    .dataframe thead th {\n",
       "        text-align: right;\n",
       "    }\n",
       "</style>\n",
       "<table border=\"1\" class=\"dataframe\">\n",
       "  <thead>\n",
       "    <tr style=\"text-align: right;\">\n",
       "      <th></th>\n",
       "      <th>Text</th>\n",
       "      <th>label</th>\n",
       "      <th>label_num</th>\n",
       "      <th>vector</th>\n",
       "    </tr>\n",
       "  </thead>\n",
       "  <tbody>\n",
       "    <tr>\n",
       "      <th>0</th>\n",
       "      <td>Top Trump Surrogate BRUTALLY Stabs Him In The...</td>\n",
       "      <td>Fake</td>\n",
       "      <td>0</td>\n",
       "      <td>[0.008657642, 0.019024342, -0.011917442, 0.032...</td>\n",
       "    </tr>\n",
       "    <tr>\n",
       "      <th>1</th>\n",
       "      <td>U.S. conservative leader optimistic of common ...</td>\n",
       "      <td>Real</td>\n",
       "      <td>1</td>\n",
       "      <td>[0.010864096, 0.007960429, 0.0011915653, 0.014...</td>\n",
       "    </tr>\n",
       "    <tr>\n",
       "      <th>2</th>\n",
       "      <td>Trump proposes U.S. tax overhaul, stirs concer...</td>\n",
       "      <td>Real</td>\n",
       "      <td>1</td>\n",
       "      <td>[0.018134918, 0.0062743523, -0.005872244, 0.03...</td>\n",
       "    </tr>\n",
       "    <tr>\n",
       "      <th>3</th>\n",
       "      <td>Court Forces Ohio To Allow Millions Of Illega...</td>\n",
       "      <td>Fake</td>\n",
       "      <td>0</td>\n",
       "      <td>[0.01255197, 0.012613623, 5.9780963e-05, 0.021...</td>\n",
       "    </tr>\n",
       "    <tr>\n",
       "      <th>4</th>\n",
       "      <td>Democrats say Trump agrees to work on immigrat...</td>\n",
       "      <td>Real</td>\n",
       "      <td>1</td>\n",
       "      <td>[-0.0019059887, 0.011889367, 0.0035395357, 0.0...</td>\n",
       "    </tr>\n",
       "  </tbody>\n",
       "</table>\n",
       "</div>"
      ],
      "text/plain": [
       "                                                Text label  label_num  \\\n",
       "0   Top Trump Surrogate BRUTALLY Stabs Him In The...  Fake          0   \n",
       "1  U.S. conservative leader optimistic of common ...  Real          1   \n",
       "2  Trump proposes U.S. tax overhaul, stirs concer...  Real          1   \n",
       "3   Court Forces Ohio To Allow Millions Of Illega...  Fake          0   \n",
       "4  Democrats say Trump agrees to work on immigrat...  Real          1   \n",
       "\n",
       "                                              vector  \n",
       "0  [0.008657642, 0.019024342, -0.011917442, 0.032...  \n",
       "1  [0.010864096, 0.007960429, 0.0011915653, 0.014...  \n",
       "2  [0.018134918, 0.0062743523, -0.005872244, 0.03...  \n",
       "3  [0.01255197, 0.012613623, 5.9780963e-05, 0.021...  \n",
       "4  [-0.0019059887, 0.011889367, 0.0035395357, 0.0...  "
      ]
     },
     "execution_count": 11,
     "metadata": {},
     "output_type": "execute_result"
    }
   ],
   "source": [
    "df.head()"
   ]
  },
  {
   "cell_type": "code",
   "execution_count": 12,
   "metadata": {},
   "outputs": [],
   "source": [
    "#lets train test and split :\n",
    "\n",
    "from sklearn.model_selection import train_test_split \n",
    "\n",
    "X_train, X_test, y_train, y_test = train_test_split(df.vector.values, \n",
    "                                                    df.label_num, \n",
    "                                                    test_size=0.2,\n",
    "                                                    random_state=2022,\n",
    "                                                    stratify=df.label_num)\n",
    "\n"
   ]
  },
  {
   "cell_type": "code",
   "execution_count": 13,
   "metadata": {},
   "outputs": [
    {
     "data": {
      "text/plain": [
       "array([array([-2.58219568e-03,  6.66544260e-03,  2.52646767e-03,  3.95730063e-02,\n",
       "              -1.41182542e-02, -7.22123589e-03,  3.15938070e-02, -3.18326391e-02,\n",
       "               1.62770562e-02,  2.15391051e-02, -2.36972049e-02, -3.72144543e-02,\n",
       "              -6.70092739e-03,  1.64224133e-02, -2.48180293e-02,  4.60469536e-02,\n",
       "               6.02065027e-03,  2.53213309e-02,  4.08343738e-03, -3.32745500e-02,\n",
       "               6.01468608e-03,  1.92604307e-02,  4.28487025e-02, -2.15403945e-03,\n",
       "               2.04510838e-02,  3.04712215e-03, -2.73784697e-02, -1.53319014e-03,\n",
       "               6.67838380e-03, -3.27401888e-03, -1.53824072e-02,  9.19036320e-05,\n",
       "              -2.74383668e-02, -3.54807038e-04, -1.12002371e-02, -1.66487973e-02,\n",
       "               1.40579836e-02,  2.69189221e-03, -4.44610231e-03,  3.41382883e-02,\n",
       "               5.02199680e-03, -1.35964267e-02,  4.29993980e-02,  1.10096289e-02,\n",
       "              -5.67582203e-03, -1.63680799e-02, -2.08231565e-02,  8.67405720e-03,\n",
       "              -1.27506657e-02,  3.22506502e-02, -1.29026920e-02,  2.64204424e-02,\n",
       "              -4.90747951e-03, -4.95679071e-03,  3.24445846e-03,  5.05160249e-04,\n",
       "              -1.06441928e-02, -2.69884747e-02, -9.40681156e-03, -3.02510597e-02,\n",
       "               6.06752140e-03,  2.97850110e-02, -2.75506414e-02, -1.17566157e-03,\n",
       "               1.70167554e-02, -1.53231900e-02, -2.12831516e-02, -6.69188192e-03,\n",
       "              -3.28447693e-03,  2.26514768e-02,  1.15149254e-02,  1.44865084e-03,\n",
       "               2.79989429e-02,  2.49321526e-03, -2.24706046e-02, -2.50821244e-02,\n",
       "               9.00601223e-03,  1.73658188e-02,  2.09767334e-02,  3.03668417e-02,\n",
       "              -1.38382493e-02, -2.01829318e-02,  1.25048012e-02, -5.96598722e-03,\n",
       "              -9.37698036e-03, -2.76826620e-02, -3.20913680e-02,  5.39542213e-02,\n",
       "               1.66598021e-03,  4.34976909e-03,  5.92936715e-03, -1.17840115e-02,\n",
       "              -4.50106449e-02, -2.10491549e-02, -7.83731975e-03, -3.38384211e-02,\n",
       "               1.77004468e-02,  1.65641699e-02,  1.81579106e-02, -1.59047600e-02,\n",
       "              -1.97536778e-02, -1.95956491e-02,  3.34207085e-03,  5.66034287e-04,\n",
       "              -1.82805564e-02, -5.11482451e-03,  1.91473309e-03, -2.90830061e-02,\n",
       "              -4.02855873e-03, -1.70079172e-02, -2.80600488e-02, -2.30379254e-02,\n",
       "               3.85570107e-03, -4.13628295e-03,  3.18104029e-02, -7.97387213e-03,\n",
       "               2.08447948e-02, -2.53612529e-02,  2.59634871e-02,  9.27834585e-03,\n",
       "              -2.49574985e-02, -1.68696162e-03, -1.31695597e-02,  3.27412300e-02,\n",
       "              -9.09329578e-03, -9.97136813e-03, -1.87872127e-02, -1.40376640e-02,\n",
       "               2.25356244e-03,  1.18356198e-02, -1.46980733e-02, -1.03703476e-02,\n",
       "              -9.65756085e-03,  2.03495752e-03, -1.37474597e-03,  6.44901593e-04,\n",
       "               8.42744485e-04,  9.56854783e-03,  1.62692107e-02,  2.09762473e-02,\n",
       "               1.75422449e-02, -3.16296630e-02,  5.90677382e-06, -2.29953676e-02,\n",
       "               6.40219403e-03,  1.87074654e-02, -9.91857960e-04, -1.86910927e-02,\n",
       "              -2.17829552e-02, -9.49366670e-03,  2.86281612e-02,  3.71174840e-03,\n",
       "              -1.77340824e-02,  9.86514892e-03, -9.20616928e-03, -1.98866650e-02,\n",
       "              -1.91071425e-02, -2.04391424e-02, -3.09219416e-02, -1.72982889e-03,\n",
       "              -1.07584614e-02,  1.39104780e-02,  2.45051328e-02,  3.70833022e-03,\n",
       "               2.79449136e-03, -3.55861522e-02,  3.36412825e-02, -2.76993625e-02,\n",
       "               1.65360924e-02,  1.39565663e-02, -4.55296002e-02, -1.55951101e-02,\n",
       "               3.87999811e-03, -3.82097885e-02, -2.24316940e-02,  1.71218568e-03,\n",
       "               4.88877147e-02, -1.15567949e-02, -1.87324528e-02,  1.31809525e-03,\n",
       "              -3.80796418e-02, -3.36076878e-02,  2.78875028e-04,  1.28483062e-03,\n",
       "               7.60526350e-03, -2.05869917e-02,  1.58092240e-03,  7.51892757e-03,\n",
       "               7.68930838e-03,  1.25378063e-02,  1.36432834e-02,  1.14829717e-02,\n",
       "               1.41548784e-02, -4.13198257e-03, -1.49158137e-02,  2.08327454e-02,\n",
       "              -2.84223375e-03, -1.58541873e-02, -1.04070315e-02, -3.68304327e-02,\n",
       "              -4.91411285e-03,  1.87549163e-02, -3.40520777e-02, -1.62067097e-02,\n",
       "               5.68619184e-03, -8.47611111e-03, -1.11561473e-02,  3.54032358e-03,\n",
       "              -1.16867870e-02, -1.37257082e-02, -1.94537435e-02,  2.42985766e-02,\n",
       "              -1.35805095e-02,  1.61051843e-02, -2.10284349e-02,  1.16373412e-02,\n",
       "               1.96997579e-02,  9.77004319e-03, -1.66528262e-02, -7.03769503e-03,\n",
       "              -1.81460963e-03,  7.39465700e-03, -7.26237474e-03, -1.74880668e-03,\n",
       "               1.77141968e-02, -1.75314303e-02,  2.42351256e-02,  1.62910130e-02,\n",
       "               1.78544186e-02, -1.56693615e-03,  3.79178370e-03, -2.79820003e-02,\n",
       "              -2.02034432e-02,  8.82263109e-03,  3.21880840e-02, -9.67869069e-03,\n",
       "               4.31459816e-03, -1.42114758e-02,  2.08534133e-02, -4.28876933e-03,\n",
       "               2.28563286e-02, -1.60417296e-02, -5.78556443e-03, -2.37584747e-02,\n",
       "               8.75278004e-03,  1.60861202e-02, -8.45332761e-05,  2.10649539e-02,\n",
       "              -1.66019727e-05, -1.88836530e-02, -7.06376787e-03,  5.08249458e-03,\n",
       "               2.84847282e-02,  1.59216225e-02,  1.74269099e-02, -2.39274707e-02,\n",
       "              -5.86959031e-05, -5.77230332e-03, -2.36098450e-02, -2.45136973e-02,\n",
       "              -1.02915857e-02,  8.43222812e-03, -3.07602398e-02,  1.54398857e-02,\n",
       "               1.55886393e-02,  2.81415936e-02, -2.85637062e-02,  1.80450315e-03,\n",
       "              -3.09008081e-02, -1.18106315e-02,  3.28004290e-03,  4.91940342e-02,\n",
       "               3.65938395e-02, -6.09787356e-04,  2.48469375e-02, -1.50327878e-02,\n",
       "              -7.36492546e-03, -3.35881002e-02, -2.00746804e-02, -4.90521546e-03,\n",
       "               6.53967867e-03, -6.76556863e-03,  6.88001327e-03,  2.16812659e-02,\n",
       "              -7.28771463e-03, -1.14062512e-02, -4.03991155e-02,  1.94410849e-02,\n",
       "              -1.40634703e-03,  1.64838545e-02, -1.48565881e-02,  2.08342960e-03,\n",
       "              -3.16918269e-02,  5.97297307e-03, -3.67120816e-03, -3.15995738e-02,\n",
       "              -7.82863528e-04, -1.25296628e-02,  6.69139950e-03, -7.04595260e-03],\n",
       "             dtype=float32)                                                       ,\n",
       "       array([ 7.61839328e-03,  2.48901360e-03, -1.75990649e-02,  2.47240961e-02,\n",
       "              -2.41719354e-02, -1.11895250e-02,  1.31364698e-02, -1.97860003e-02,\n",
       "               3.31146531e-02,  2.78986362e-03, -1.67687330e-02, -2.31624320e-02,\n",
       "              -6.92144409e-03,  1.74218323e-02, -4.65728678e-02,  2.70272344e-02,\n",
       "               2.60086581e-02,  3.41436937e-02, -4.35897475e-03, -3.42064388e-02,\n",
       "              -1.01944339e-03,  3.56212035e-02,  2.29995959e-02, -1.13711110e-03,\n",
       "               5.53720258e-03, -2.41591968e-03, -1.80803798e-02,  4.61178087e-03,\n",
       "               7.85050821e-03, -2.73307879e-03, -8.38370621e-03,  1.65733155e-02,\n",
       "              -3.41971666e-02, -8.46128166e-03,  1.51049681e-02, -9.43373982e-03,\n",
       "               2.91350503e-02,  1.13155255e-02,  1.23835551e-02,  2.07179282e-02,\n",
       "               2.03372147e-02, -1.28414240e-02,  3.21734063e-02,  9.44645703e-03,\n",
       "              -2.84845568e-02, -1.42605202e-02, -1.27588259e-02, -5.38629433e-03,\n",
       "               3.49768292e-04,  3.31922434e-02, -6.77333865e-03,  2.29963865e-02,\n",
       "              -9.46350116e-03, -4.35577153e-04,  2.39531491e-02,  9.68174264e-03,\n",
       "              -1.65491328e-02, -2.45410148e-02, -5.44043025e-03, -4.56561670e-02,\n",
       "               1.36039341e-02,  1.41238077e-02, -3.47780585e-02, -1.52507974e-02,\n",
       "               1.87275244e-03, -1.29849464e-02, -2.87824105e-02,  2.79011931e-02,\n",
       "              -8.60539824e-03,  2.01764740e-02,  1.41488910e-02, -2.42584874e-03,\n",
       "               3.22721153e-02, -2.27102404e-03, -3.65049392e-02, -1.01456633e-02,\n",
       "               2.68128999e-02,  1.60697922e-02,  2.16152817e-02,  3.34012322e-02,\n",
       "              -9.00445506e-03, -1.84810385e-02,  1.28829265e-02, -1.88954792e-03,\n",
       "              -2.13786308e-03, -1.92300044e-02, -4.03218083e-02,  4.60176691e-02,\n",
       "               2.44368985e-03, -5.67324506e-03,  3.64971370e-03, -1.82167371e-03,\n",
       "              -3.13196592e-02, -3.08300517e-02, -4.12316993e-03, -2.67038438e-02,\n",
       "               2.38231458e-02,  2.81435754e-02,  8.47664010e-03, -2.02848352e-02,\n",
       "              -2.76100170e-02, -8.65201000e-03, -1.51599722e-03,  1.08909691e-02,\n",
       "              -2.87382770e-03, -1.04992148e-02,  9.98641457e-03, -3.13883424e-02,\n",
       "              -1.14303455e-03, -2.12973803e-02, -2.63449568e-02, -8.84092227e-03,\n",
       "               1.24737126e-04, -5.88685134e-03,  3.17105837e-02, -1.20779558e-03,\n",
       "               1.74003243e-02, -1.75342187e-02,  3.21287364e-02,  3.95246828e-03,\n",
       "              -1.49770537e-02, -2.32566404e-03, -2.39785090e-02,  2.34642122e-02,\n",
       "               4.26932471e-03, -1.68141350e-02, -2.60243788e-02, -1.53796263e-02,\n",
       "               5.49782114e-03, -3.99563694e-03, -8.93418957e-03, -4.90568206e-02,\n",
       "               4.12235595e-03,  1.61021948e-03, -6.87933387e-03, -1.69086233e-02,\n",
       "               6.38794911e-04,  1.96823031e-02,  2.52989819e-03,  1.70600191e-02,\n",
       "               2.85134520e-02, -2.08935644e-02, -4.63349745e-03, -5.34560950e-03,\n",
       "               7.34509481e-03,  1.16142714e-02,  4.63041198e-03, -2.49365922e-02,\n",
       "              -1.45528931e-02, -7.45379645e-03,  3.37615609e-02,  8.61671939e-03,\n",
       "               3.23594012e-03,  4.74232808e-03, -1.20612187e-02, -2.76914029e-03,\n",
       "              -1.25498101e-02, -1.32020917e-02, -2.25676745e-02, -1.69887729e-02,\n",
       "              -1.93500391e-03,  1.91561058e-02,  2.15707738e-02,  2.69462448e-02,\n",
       "               8.55851080e-03, -5.04989289e-02,  2.12491546e-02, -2.83882972e-02,\n",
       "               1.86042115e-02,  1.04778046e-02, -2.51076743e-02, -8.03315360e-03,\n",
       "               1.07341511e-02, -3.97358537e-02, -1.01266550e-02, -1.09029131e-03,\n",
       "               4.07587066e-02, -2.88273450e-02, -2.01926399e-02,  3.68208671e-03,\n",
       "              -3.20190266e-02, -1.62980258e-02,  1.38105303e-02,  6.92324014e-03,\n",
       "              -7.06163421e-03, -1.32437767e-02, -1.06240567e-02, -2.04231730e-03,\n",
       "               2.42656171e-02,  1.98493041e-02,  1.32926935e-02,  1.60794575e-02,\n",
       "               2.76196375e-02,  8.33252538e-03, -9.20007657e-03,  2.04604985e-05,\n",
       "               5.31374011e-03, -2.51546735e-03, -1.00021437e-02, -2.39096303e-02,\n",
       "               1.34380460e-02,  1.09240226e-02, -1.57587677e-02, -5.89396339e-03,\n",
       "               1.52660841e-02, -9.39623918e-03, -2.77841091e-03,  1.44762993e-02,\n",
       "              -3.77341988e-03,  4.03093128e-03, -4.37797885e-03,  2.57939100e-02,\n",
       "              -1.85448327e-03,  9.47148167e-03, -2.45696083e-02,  1.59193436e-03,\n",
       "               1.76750664e-02,  1.61942746e-03, -2.42997389e-02, -2.31370237e-02,\n",
       "              -1.79241505e-02,  9.53366514e-03, -5.86229889e-03, -2.00316729e-03,\n",
       "               2.80104969e-02,  1.02044083e-03,  1.78160369e-02,  1.12123517e-02,\n",
       "               9.40180942e-03,  2.19245767e-03, -6.96356059e-04, -8.70561413e-03,\n",
       "              -1.97520629e-02,  2.97583081e-03,  4.07212116e-02, -1.49234349e-03,\n",
       "               1.35377198e-02, -3.22625339e-02,  3.32045071e-02,  6.73261192e-03,\n",
       "               6.78172475e-03, -1.64962467e-02,  1.21568458e-03, -3.58572751e-02,\n",
       "               6.08490664e-04,  1.56283695e-02,  2.92140944e-03,  4.50175405e-02,\n",
       "               1.16154607e-02, -1.95105039e-02,  5.86558785e-03,  2.57815290e-02,\n",
       "               1.39427967e-02,  2.11952962e-02,  2.15386115e-02, -8.69167596e-03,\n",
       "               1.58564150e-02,  1.30048348e-02, -1.29147787e-02, -3.06457188e-02,\n",
       "              -5.97112579e-03,  5.48157375e-03, -8.04628339e-03,  7.44501548e-03,\n",
       "               8.63005407e-03,  4.03764136e-02, -1.93056595e-02,  7.44999386e-04,\n",
       "              -2.02009361e-02, -8.74405634e-03,  9.62434337e-03,  2.80249547e-02,\n",
       "               4.36448194e-02,  1.67162102e-02,  2.40177084e-02, -1.14410110e-02,\n",
       "              -1.55535368e-02, -3.61048467e-02, -1.94389913e-02, -6.92108693e-03,\n",
       "              -1.87933410e-03,  5.07606892e-03,  1.36998678e-02,  2.12604720e-02,\n",
       "              -5.47241047e-03, -4.19171248e-03, -1.87924989e-02,  1.90158060e-03,\n",
       "               2.01105159e-02,  1.59618165e-02, -5.76482154e-03,  1.30583234e-02,\n",
       "              -3.04674953e-02, -1.14500914e-02, -1.27121946e-03, -1.80392712e-02,\n",
       "               1.41185289e-02, -3.34623046e-02,  1.28318779e-02,  1.60798361e-03],\n",
       "             dtype=float32)                                                       ,\n",
       "       array([ 1.22798178e-02,  2.02112999e-02, -5.72421635e-03,  3.19696702e-02,\n",
       "              -1.77285839e-02, -8.60668719e-03,  3.09273545e-02, -1.46978050e-02,\n",
       "               3.66784967e-02,  1.85468644e-02, -2.33246051e-02, -3.36750634e-02,\n",
       "              -1.20114554e-02,  2.15911176e-02, -3.80322225e-02,  3.97362672e-02,\n",
       "               2.80256551e-02,  3.76271233e-02,  6.90886192e-03, -3.59666720e-02,\n",
       "              -1.30289851e-03,  1.96010899e-02,  4.00063731e-02,  1.52727021e-02,\n",
       "               2.76774969e-02,  5.66562125e-03, -2.50696708e-02, -7.94347492e-04,\n",
       "               1.89631265e-02, -1.02623459e-02, -2.47837808e-02,  1.48680899e-02,\n",
       "              -3.02906521e-02, -1.45697249e-02,  6.36705663e-03,  3.61529691e-03,\n",
       "               1.87399536e-02,  1.28517998e-02,  4.11110511e-03,  3.11372764e-02,\n",
       "               3.28414328e-02, -2.75551751e-02,  5.39161079e-02,  2.41393014e-03,\n",
       "              -2.46012527e-02, -5.65129658e-03, -4.41322709e-03, -9.54674557e-03,\n",
       "               1.95366237e-03,  2.78892945e-02, -2.06292495e-02,  3.21875885e-02,\n",
       "              -1.71408113e-02, -1.70691255e-02,  3.36143654e-04,  4.82903095e-03,\n",
       "              -8.09897017e-03, -3.58710773e-02,  1.48857618e-02, -3.57086062e-02,\n",
       "               1.21701965e-02,  2.54761148e-02, -2.72484366e-02, -2.29639392e-02,\n",
       "               1.47543233e-02, -1.34814968e-02, -1.92190483e-02,  2.42967755e-02,\n",
       "              -2.42133290e-02,  1.84536017e-02,  1.96439195e-02, -7.65345103e-05,\n",
       "               4.33222875e-02, -2.54742044e-04, -2.54279785e-02, -2.79633179e-02,\n",
       "               2.48437226e-02,  2.57660188e-02,  2.75293589e-02,  4.03053649e-02,\n",
       "              -4.98057576e-03, -1.40034780e-02,  1.30969658e-02, -1.19222049e-02,\n",
       "              -1.89569022e-03, -2.07764059e-02, -1.77519340e-02,  4.10284773e-02,\n",
       "              -7.41345435e-03, -1.52013525e-02,  7.49508338e-03,  1.35621885e-02,\n",
       "              -4.01217230e-02, -2.32404880e-02,  4.12581302e-03, -2.97488775e-02,\n",
       "               1.84626617e-02,  1.97971556e-02,  1.23922285e-02, -7.18694227e-03,\n",
       "              -2.04637647e-02, -2.40951851e-02,  1.25140836e-02,  3.03683034e-03,\n",
       "              -2.10644468e-03, -1.68235097e-02, -3.13652889e-03, -2.60523614e-02,\n",
       "               9.46825277e-03, -2.61169560e-02, -1.35454172e-02, -1.44933341e-02,\n",
       "              -1.19030066e-02,  5.08956425e-03,  4.36388366e-02, -1.17238956e-02,\n",
       "               3.02401483e-02, -8.07586219e-03,  2.98600737e-02,  1.68311652e-02,\n",
       "              -3.54587771e-02, -3.01115052e-03, -1.41562661e-02,  2.79736184e-02,\n",
       "              -1.63225457e-02, -1.82598699e-02, -2.23705620e-02, -9.25462786e-03,\n",
       "              -1.54088787e-03, -1.67400332e-03, -2.41480153e-02, -4.07542065e-02,\n",
       "              -9.73239541e-03,  9.34158918e-03, -8.13588966e-03, -2.16464475e-02,\n",
       "               9.37378500e-03,  2.33363956e-02, -1.02930597e-03,  2.01436225e-02,\n",
       "               2.96737272e-02, -3.29795815e-02,  1.02455672e-02, -1.16301270e-03,\n",
       "               2.18760092e-02,  1.90426614e-02, -1.24385096e-02, -2.11529359e-02,\n",
       "              -1.96994003e-03, -4.26422292e-03,  2.43215952e-02,  5.21510467e-03,\n",
       "              -2.01157928e-02, -3.97816068e-03, -1.14256488e-02,  5.19081159e-03,\n",
       "              -7.23203551e-03, -4.27194200e-02, -2.46039666e-02,  6.05971552e-03,\n",
       "              -6.06230553e-03,  1.57833491e-02,  2.37471759e-02, -3.68716707e-03,\n",
       "               1.16896359e-02, -5.03499620e-02,  2.99100317e-02, -2.81164143e-02,\n",
       "               3.38241719e-02,  7.71948695e-03, -3.27460170e-02, -1.08103491e-02,\n",
       "              -2.05531507e-03, -3.64134312e-02, -1.38118090e-02, -1.63109944e-04,\n",
       "               3.34178731e-02, -2.73522623e-02, -2.45723799e-02,  6.54993486e-03,\n",
       "              -2.73796376e-02, -3.29361260e-02,  7.50492606e-03,  1.00991428e-02,\n",
       "              -9.13879927e-03, -1.43443374e-02, -1.37012554e-02,  7.18709640e-03,\n",
       "               2.35555954e-02,  1.26077812e-02,  2.32861824e-02,  1.81673598e-02,\n",
       "               2.78028063e-02,  9.60967131e-03, -2.37535723e-02,  2.27450742e-03,\n",
       "              -7.59450253e-03, -4.85868752e-03, -1.69800166e-02, -2.90096384e-02,\n",
       "               1.81874167e-03,  2.79202890e-02, -2.00479236e-02, -4.48910985e-03,\n",
       "               9.75345820e-03, -6.21714070e-03, -5.14396140e-03,  1.19078355e-02,\n",
       "              -3.59183177e-03, -1.85611006e-02, -1.01979505e-02,  3.35776620e-02,\n",
       "              -2.90888897e-03,  1.18966559e-02, -2.85324566e-02,  2.22986346e-04,\n",
       "               1.56460609e-02,  2.57882732e-03, -1.24694705e-02, -1.08188419e-02,\n",
       "              -1.39847742e-02,  1.56435482e-02, -1.20273670e-02, -5.97982388e-03,\n",
       "               2.73116473e-02, -1.21746017e-02,  4.32006232e-02,  1.80868544e-02,\n",
       "               1.74931251e-02, -2.76832283e-03,  7.75566790e-03, -1.25563443e-02,\n",
       "               1.38787681e-03, -1.01307034e-02,  3.31946015e-02,  3.28209228e-03,\n",
       "               6.50627166e-03, -2.99234465e-02,  3.06425039e-02,  8.19177181e-03,\n",
       "               1.47594176e-02,  2.54458329e-03, -1.07579464e-02, -4.03028466e-02,\n",
       "              -1.09808855e-02,  9.63292643e-03,  1.36209494e-02,  3.80319059e-02,\n",
       "               4.44197375e-03, -1.87060442e-02, -1.05472514e-02,  1.13666067e-02,\n",
       "               9.93502513e-03,  1.83844808e-02,  2.11371556e-02, -4.28968528e-03,\n",
       "               1.67516861e-02,  1.16192224e-02, -2.01792344e-02, -3.25143598e-02,\n",
       "               5.81653137e-03,  4.02183319e-03, -1.33402087e-02,  1.89572386e-02,\n",
       "               1.80154946e-02,  4.86340038e-02, -7.73253292e-03, -1.51693188e-02,\n",
       "              -2.89434474e-02, -1.14343222e-02, -7.17147347e-03,  4.64949347e-02,\n",
       "               4.04570475e-02,  5.98592777e-03,  1.33324470e-02, -2.24475563e-02,\n",
       "              -2.10974901e-03, -4.41325717e-02, -4.73472243e-03,  3.09578120e-03,\n",
       "               5.21813333e-03, -8.58452357e-03,  7.93918408e-03,  2.20018253e-02,\n",
       "              -1.33517412e-02, -5.93615416e-03, -4.46624160e-02, -2.26727291e-03,\n",
       "               2.07377737e-03,  8.06575734e-03,  1.97328022e-03,  7.77218165e-03,\n",
       "              -4.08541188e-02, -7.37509457e-04, -1.75328497e-02, -2.53825448e-02,\n",
       "               9.10033751e-03, -2.18377598e-02,  9.43415798e-03,  1.87614281e-03],\n",
       "             dtype=float32)                                                       ],\n",
       "      dtype=object)"
      ]
     },
     "execution_count": 13,
     "metadata": {},
     "output_type": "execute_result"
    }
   ],
   "source": [
    "X_train[:3] #we have to reshape it because as you can see each individual element is also numpy array. itsnot a native 2d array  "
   ]
  },
  {
   "cell_type": "code",
   "execution_count": 14,
   "metadata": {},
   "outputs": [
    {
     "name": "stdout",
     "output_type": "stream",
     "text": [
      "shape of X_train before reshaping: (7920,)\n",
      "shape of X_test before reshaping: (7920,)\n",
      "shape of X_train after reshaping: (7920, 300)\n",
      "shape of X_test after reshaping: (1980, 300)\n"
     ]
    }
   ],
   "source": [
    "#Reshaping the X_train and X_test so as to fit for models\n",
    "\n",
    "print(\"shape of X_train before reshaping:\", X_train.shape)\n",
    "print(\"shape of X_test before reshaping:\", X_train.shape)\n",
    "\n",
    "X_train_2d = np.stack(X_train)\n",
    "X_test_2d = np.stack(X_test)\n",
    "\n",
    "print(\"shape of X_train after reshaping:\", X_train_2d.shape)\n",
    "print(\"shape of X_test after reshaping:\", X_test_2d.shape)"
   ]
  },
  {
   "cell_type": "code",
   "execution_count": 15,
   "metadata": {},
   "outputs": [
    {
     "name": "stdout",
     "output_type": "stream",
     "text": [
      "              precision    recall  f1-score   support\n",
      "\n",
      "           0       0.99      0.97      0.98      1000\n",
      "           1       0.97      0.99      0.98       980\n",
      "\n",
      "    accuracy                           0.98      1980\n",
      "   macro avg       0.98      0.98      0.98      1980\n",
      "weighted avg       0.98      0.98      0.98      1980\n",
      "\n"
     ]
    }
   ],
   "source": [
    "#Now lets train Machine Learning Model:\n",
    "\n",
    "from sklearn.ensemble import GradientBoostingClassifier\n",
    "from sklearn.metrics import classification_report\n",
    "\n",
    "\n",
    "clf = GradientBoostingClassifier()\n",
    "\n",
    "clf.fit(X_train_2d, y_train)\n",
    "\n",
    "\n",
    "y_pred = clf.predict(X_test_2d)\n",
    "\n",
    "print(classification_report(y_test, y_pred))\n",
    "\n"
   ]
  },
  {
   "cell_type": "code",
   "execution_count": 16,
   "metadata": {},
   "outputs": [
    {
     "name": "stdout",
     "output_type": "stream",
     "text": [
      "              precision    recall  f1-score   support\n",
      "\n",
      "           0       0.93      0.95      0.94      1000\n",
      "           1       0.95      0.92      0.94       980\n",
      "\n",
      "    accuracy                           0.94      1980\n",
      "   macro avg       0.94      0.94      0.94      1980\n",
      "weighted avg       0.94      0.94      0.94      1980\n",
      "\n"
     ]
    }
   ],
   "source": [
    "#using Naivebayes model :\n",
    "\n",
    "from sklearn.naive_bayes import MultinomialNB\n",
    "from sklearn.preprocessing import MinMaxScaler   #as our data contains some negative and postive values the NB will throw an error do overcome this we can scale the data. \n",
    "\n",
    "scaler = MinMaxScaler()\n",
    "scaled_train_embed = scaler.fit_transform(X_train_2d)\n",
    "scaled_test_embed = scaler.transform(X_test_2d)\n",
    "\n",
    "\n",
    "clf = MultinomialNB()\n",
    "clf.fit(scaled_train_embed, y_train)\n",
    "\n",
    "\n",
    "y_pred_nb = clf.predict(X_test_2d)\n",
    "\n",
    "print(classification_report(y_test, y_pred_nb))\n"
   ]
  },
  {
   "cell_type": "code",
   "execution_count": 17,
   "metadata": {},
   "outputs": [
    {
     "name": "stdout",
     "output_type": "stream",
     "text": [
      "Random Forest Classifier Report:\n",
      "              precision    recall  f1-score   support\n",
      "\n",
      "           0       0.98      0.96      0.97      1000\n",
      "           1       0.96      0.98      0.97       980\n",
      "\n",
      "    accuracy                           0.97      1980\n",
      "   macro avg       0.97      0.97      0.97      1980\n",
      "weighted avg       0.97      0.97      0.97      1980\n",
      "\n"
     ]
    }
   ],
   "source": [
    "#using Randomforest classifier:\n",
    "\n",
    "from sklearn.ensemble import RandomForestClassifier\n",
    "from sklearn.metrics import classification_report\n",
    "\n",
    "# Create a RandomForest classifier\n",
    "clf_rf = RandomForestClassifier()\n",
    "\n",
    "# Train the classifier\n",
    "clf_rf.fit(X_train_2d, y_train)\n",
    "\n",
    "# Predict on the test data\n",
    "y_pred_rf = clf_rf.predict(X_test_2d)\n",
    "\n",
    "# Print the classification report\n",
    "print(\"Random Forest Classifier Report:\")\n",
    "print(classification_report(y_test, y_pred_rf))\n"
   ]
  },
  {
   "cell_type": "code",
   "execution_count": 18,
   "metadata": {},
   "outputs": [
    {
     "name": "stdout",
     "output_type": "stream",
     "text": [
      "Decision Tree Classifier Report:\n",
      "              precision    recall  f1-score   support\n",
      "\n",
      "           0       0.93      0.93      0.93      1000\n",
      "           1       0.92      0.93      0.93       980\n",
      "\n",
      "    accuracy                           0.93      1980\n",
      "   macro avg       0.93      0.93      0.93      1980\n",
      "weighted avg       0.93      0.93      0.93      1980\n",
      "\n"
     ]
    }
   ],
   "source": [
    "#using Decision tree classifier :\n",
    "\n",
    "from sklearn.tree import DecisionTreeClassifier\n",
    "from sklearn.metrics import classification_report\n",
    "\n",
    "# Create a DecisionTree classifier\n",
    "clf_dt = DecisionTreeClassifier()\n",
    "\n",
    "# Train the classifier\n",
    "clf_dt.fit(X_train_2d, y_train)\n",
    "\n",
    "# Predict on the test data\n",
    "y_pred_dt = clf_dt.predict(X_test_2d)\n",
    "\n",
    "# Print the classification report\n",
    "print(\"Decision Tree Classifier Report:\")\n",
    "print(classification_report(y_test, y_pred_dt))\n"
   ]
  },
  {
   "cell_type": "code",
   "execution_count": 19,
   "metadata": {},
   "outputs": [
    {
     "data": {
      "text/plain": [
       "array([0, 1, 1])"
      ]
     },
     "execution_count": 19,
     "metadata": {},
     "output_type": "execute_result"
    }
   ],
   "source": [
    "#As you can see from all the models the gradient boosting gaev the best performance of alll!! now lets make some predictions :\n",
    "\n",
    "\n",
    "test_news = [\" Top Trump Surrogate BRUTALLY Stabs Him In The Back: ‘He’s Pathetic’ (VIDEO) It s looking as though Republican presidential candidate Donald Trump is losing support even from within his own ranks. You know things are getting bad when even your top surrogates start turning against you, which is exactly what just happened on Fox News when Newt Gingrich called Trump  pathetic. Gingrich knows that Trump needs to keep his focus on Hillary Clinton if he even remotely wants to have a chance at defeating her. However, Trump has hurt feelings because many Republicans don t support his sexual assault against women have turned against him, including House Speaker Paul Ryan (R-WI). So, that has made Trump lash out as his own party.Gingrich said on Fox News: Look, first of all, let me just say about Trump, who I admire and I ve tried to help as much as I can. There s a big Trump and a little Trump. The little Trump is frankly pathetic. I mean, he s mad over not getting a phone call? Trump s referring to the fact that Paul Ryan didn t call to congratulate him after the debate. Probably because he didn t win despite what Trump s ego tells him.Gingrich also added: Donald Trump has one opponent. Her name is Hillary Clinton. Her name is not Paul Ryan. It s not anybody else. Trump doesn t seem to realize that the person he should be mad at is himself because he truly is his own worst enemy. This will ultimately lead to his defeat and he will have no one to blame but himself.Watch here via Politico:Featured Photo by Joe Raedle/Getty Images\",\n",
    "             \"Trump on Twitter (August 8): Opioid crisis, North Korea The following statements were posted to the verified Twitter accounts of U.S. President Donald Trump, @realDonaldTrump and @POTUS.  The opinions expressed are his own. Reuters has not edited the statements or confirmed their accuracy.  @realDonaldTrump : - I will be holding a major briefing on the Opioid crisis, a major problem for our country, today at 3:00 P.M. in Bedminster, N.J. [0711 EDT] - After many years of failure, countries are coming together to  finally address the dangers posed by North Korea. We must be tough & decisive! [0717 EDT] - E-mails show that the AmazonWashingtonPost and the FailingNewYorkTimes were reluctant to cover the Clinton/Lynch secret meeting in plane. [1400 EDT] - After 200 days, rarely has any Administration achieved what we have achieved..not even close! Don’t believe the Fake News Suppression Polls! [1410 EDT] -- Source link: (bit.ly/2jBh4LU) (bit.ly/2jpEXYR)\",\n",
    "             \"Bond between Trump, Xi in meetings played role in China abstention: U.S. official WASHINGTON (Reuters) - A senior Trump administration official said on Wednesday that the positive bond developed between U.S. President Donald Trump and Chinese President Xi Jinping last week in Florida helped lead to China’s abstention from a U.N. Security Council vote on Syria. The official, who briefed reporters on condition of anonymity, would not say whether Trump personally asked Xi that China not veto the resolution. The official said Xi’s decision not to veto the resolution spoke to China’s determination not to obstruct the U.N.’s ability to sanction Syria for a chemical weapons attack last week. \"]\n",
    "\n",
    "test_news_vectors = [preprocess_and_vectorize(n) for n in test_news]\n",
    "clf.predict(test_news_vectors )"
   ]
  },
  {
   "cell_type": "markdown",
   "metadata": {},
   "source": [
    "The above prdiction is True according to the csv data Hence lets plot confusion matrics :\n"
   ]
  },
  {
   "cell_type": "code",
   "execution_count": 20,
   "metadata": {},
   "outputs": [
    {
     "data": {
      "text/plain": [
       "Text(33.22222222222222, 0.5, 'Truth')"
      ]
     },
     "execution_count": 20,
     "metadata": {},
     "output_type": "execute_result"
    },
    {
     "data": {
      "image/png": "[encoded data removed]",
      "text/plain": [
       "<Figure size 500x500 with 2 Axes>"
      ]
     },
     "metadata": {},
     "output_type": "display_data"
    }
   ],
   "source": [
    "#confusion matrix of Gradientboosting classifier\n",
    "\n",
    "\n",
    "from sklearn.metrics import confusion_matrix\n",
    "cm = confusion_matrix(y_test, y_pred)\n",
    "cm\n",
    "\n",
    "\n",
    "from matplotlib import pyplot as plt\n",
    "import seaborn as sn\n",
    "plt.figure(figsize=(5,5))\n",
    "sn.heatmap(cm, annot= True, fmt='d')\n",
    "plt.xlabel('Prediction')\n",
    "plt.ylabel('Truth')"
   ]
  },
  {
   "cell_type": "code",
   "execution_count": null,
   "metadata": {},
   "outputs": [],
   "source": []
  }
 ],
 "metadata": {
  "kernelspec": {
   "display_name": "myenv",
   "language": "python",
   "name": "python3"
  },
  "language_info": {
   "codemirror_mode": {
    "name": "ipython",
    "version": 3
   },
   "file_extension": ".py",
   "mimetype": "text/x-python",
   "name": "python",
   "nbconvert_exporter": "python",
   "pygments_lexer": "ipython3",
   "version": "3.8.12"
  }
 },
 "nbformat": 4,
 "nbformat_minor": 2
}
